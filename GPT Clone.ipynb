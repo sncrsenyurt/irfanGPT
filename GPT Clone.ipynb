{
 "cells": [
  {
   "cell_type": "code",
   "execution_count": null,
   "id": "6dd4046f-7786-4d55-bdcf-7cae75d80ea3",
   "metadata": {},
   "outputs": [],
   "source": [
    "# Import necessary libraries\n",
    "import streamlit as st  # Import the Streamlit library for building interactive web apps\n",
    "from transformers import pipeline  # Import the pipeline module from Hugging Face Transformers for NLP tasks\n",
    "\n",
    "# Load the chatbot model using Hugging Face Transformers\n",
    "# https://about.fb.com/news/2022/08/blenderbot-ai-chatbot-improves-through-conversation/\n",
    "chatbot = pipeline(model=\"facebook/blenderbot-400M-distill\")  # Load the BlenderBot model for chatbot functionality\n",
    "\n",
    "# Function to render UI components\n",
    "def render_ui():\n",
    "    st.title(\"IrfanGPT\")  # Set the title of the web app to \"IrfanGPT\"\n",
    "    st.markdown(\"Hello! I'm IrfanGPT. Type your message below and click 'Chat' to start.\")  # Display a greeting message\n",
    "\n",
    "    # Initialise conversation history if not already initialised\n",
    "    if 'conversation_history' not in st.session_state:\n",
    "        st.session_state.conversation_history = []  # Create an empty list to store conversation history\n",
    "\n",
    "    # User input area\n",
    "    user_input = st.text_input(\"You:\")  # Create a text input box labeled \"You:\" for user input\n",
    "\n",
    "    # Chat button\n",
    "    if st.button(\"Chat\"):  # Check if the \"Chat\" button is clicked\n",
    "        if user_input:  # Check if there is any user input\n",
    "            # Add user input to conversation history\n",
    "            st.session_state.conversation_history.append(f\"You: {user_input}\")  # Append user input to conversation history\n",
    "\n",
    "            # Generate a response from the chatbot\n",
    "            try:\n",
    "                response = chatbot(user_input)[0][\"generated_text\"]  # Use the chatbot model to generate a response\n",
    "            except Exception as e:\n",
    "                response = f\"Error: {str(e)}\"  # Handle any errors that occur during response generation\n",
    "\n",
    "            # Add chatbot response to conversation history\n",
    "            st.session_state.conversation_history.append(f\"IrfanGPT: {response}\")  # Append chatbot response to history\n",
    "\n",
    "            # Display chatbot's response\n",
    "            st.text_area(\"IrfanGPT:\", response, height=150)  # Display the chatbot's response in a text area\n",
    "\n",
    "    # Display conversation history\n",
    "    st.markdown(\"## Conversation History\")  # Display a heading for the conversation history section\n",
    "    for message in st.session_state.conversation_history[-5:]:  # Iterate through the last 5 messages in conversation history\n",
    "        st.text(message)  # Display each message\n",
    "\n",
    "if __name__ == \"__main__\":\n",
    "    render_ui()  # Call the render_ui function when the script is executed\n"
   ]
  }
 ],
 "metadata": {
  "kernelspec": {
   "display_name": "Python 3 (ipykernel)",
   "language": "python",
   "name": "python3"
  },
  "language_info": {
   "codemirror_mode": {
    "name": "ipython",
    "version": 3
   },
   "file_extension": ".py",
   "mimetype": "text/x-python",
   "name": "python",
   "nbconvert_exporter": "python",
   "pygments_lexer": "ipython3",
   "version": "3.11.7"
  }
 },
 "nbformat": 4,
 "nbformat_minor": 5
}
